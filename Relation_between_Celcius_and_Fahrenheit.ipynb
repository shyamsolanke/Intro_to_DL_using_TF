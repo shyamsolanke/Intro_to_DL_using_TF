{
  "nbformat": 4,
  "nbformat_minor": 0,
  "metadata": {
    "colab": {
      "name": "Relation between Celcius and Fahrenheit.ipynb",
      "provenance": [],
      "collapsed_sections": []
    },
    "kernelspec": {
      "name": "python3",
      "display_name": "Python 3"
    },
    "language_info": {
      "name": "python"
    }
  },
  "cells": [
    {
      "cell_type": "code",
      "metadata": {
        "colab": {
          "base_uri": "https://localhost:8080/"
        },
        "id": "i19ei5mvmRRq",
        "outputId": "fa2315c8-d876-43c7-d036-ede2b89c5e3c"
      },
      "source": [
        "import tensorflow as tf\n",
        "import logging\n",
        "logging.error(\"This is error\")\n",
        "import numpy as np"
      ],
      "execution_count": 17,
      "outputs": [
        {
          "output_type": "stream",
          "name": "stderr",
          "text": [
            "ERROR:root:This is error\n"
          ]
        }
      ]
    },
    {
      "cell_type": "markdown",
      "metadata": {
        "id": "eIJ_wd2YnAfE"
      },
      "source": [
        "import logging to log errors\n",
        "\n",
        "import tensorflow and numpy\n"
      ]
    },
    {
      "cell_type": "code",
      "metadata": {
        "colab": {
          "base_uri": "https://localhost:8080/"
        },
        "id": "iSAwwPlon9aR",
        "outputId": "aa95567a-59a2-473f-ac3f-4583886fc295"
      },
      "source": [
        "celcius_q = np.array([-40,-10,0,8,15,22,38],dtype=float)\n",
        "fahrenheit_a = np.array([-40,14,32,46,59,72,100],dtype=float)\n",
        "for i,c in enumerate(celcius_q):\n",
        "  print(\"{} degree celcius = {} degree Fahrenheit\".format(c,fahrenheit_a[i]))"
      ],
      "execution_count": 18,
      "outputs": [
        {
          "output_type": "stream",
          "name": "stdout",
          "text": [
            "-40.0 degree celcius = -40.0 degree Fahrenheit\n",
            "-10.0 degree celcius = 14.0 degree Fahrenheit\n",
            "0.0 degree celcius = 32.0 degree Fahrenheit\n",
            "8.0 degree celcius = 46.0 degree Fahrenheit\n",
            "15.0 degree celcius = 59.0 degree Fahrenheit\n",
            "22.0 degree celcius = 72.0 degree Fahrenheit\n",
            "38.0 degree celcius = 100.0 degree Fahrenheit\n"
          ]
        }
      ]
    },
    {
      "cell_type": "code",
      "metadata": {
        "id": "fcoxXMNWFmS9"
      },
      "source": [
        "ten=tf.keras.layers.Dense(units=1,input_shape=[1])\n"
      ],
      "execution_count": 19,
      "outputs": []
    },
    {
      "cell_type": "markdown",
      "metadata": {
        "id": "lEJQWzlqGRVc"
      },
      "source": [
        "input_shape - here input shape is shape of one dimensional array with single number\n",
        "(2)units - number of nuerons in alayer\n"
      ]
    },
    {
      "cell_type": "code",
      "metadata": {
        "id": "fwVvPz2WGoMm"
      },
      "source": [
        "model=tf.keras.Sequential([ten])"
      ],
      "execution_count": 20,
      "outputs": []
    },
    {
      "cell_type": "code",
      "metadata": {
        "id": "ws2PTxVQGf8N"
      },
      "source": [
        "model.compile(loss=\"mean_squared_error\",optimizer=tf.keras.optimizers.Adam(0.1))"
      ],
      "execution_count": 21,
      "outputs": []
    },
    {
      "cell_type": "code",
      "metadata": {
        "id": "_TLzFwniIU-K"
      },
      "source": [
        "history=model.fit(celcius_q,fahrenheit_a,epochs=500,verbose=False)"
      ],
      "execution_count": 22,
      "outputs": []
    },
    {
      "cell_type": "code",
      "metadata": {
        "colab": {
          "base_uri": "https://localhost:8080/",
          "height": 297
        },
        "id": "WgRy8KcFI0C_",
        "outputId": "74c0ae13-e7f9-48d2-8ce5-c463ce90c705"
      },
      "source": [
        "import matplotlib.pyplot as plt\n",
        "plt.xlabel(\"Epoch number\")\n",
        "plt.ylabel(\"Loss magnitude\")\n",
        "plt.plot(history.history['loss'])"
      ],
      "execution_count": 23,
      "outputs": [
        {
          "output_type": "execute_result",
          "data": {
            "text/plain": [
              "[<matplotlib.lines.Line2D at 0x7fb7a5a2b790>]"
            ]
          },
          "metadata": {},
          "execution_count": 23
        },
        {
          "output_type": "display_data",
          "data": {
            "image/png": "[encoded data removed]",
            "text/plain": [
              "<Figure size 432x288 with 1 Axes>"
            ]
          },
          "metadata": {
            "needs_background": "light"
          }
        }
      ]
    },
    {
      "cell_type": "code",
      "metadata": {
        "colab": {
          "base_uri": "https://localhost:8080/"
        },
        "id": "KnABblU5Jjng",
        "outputId": "a3d3215e-8d6f-4dcf-ab19-2dfa924f4c9c"
      },
      "source": [
        "print(model.predict([100.0]))"
      ],
      "execution_count": 24,
      "outputs": [
        {
          "output_type": "stream",
          "name": "stdout",
          "text": [
            "[[211.32794]]\n"
          ]
        }
      ]
    },
    {
      "cell_type": "code",
      "metadata": {
        "colab": {
          "base_uri": "https://localhost:8080/"
        },
        "id": "4iks98_QKklI",
        "outputId": "c4b0cb44-48bf-41b1-ce0c-b3407a65ef3e"
      },
      "source": [
        "print(\"These are internal variables {}\".format(ten.get_weights()))"
      ],
      "execution_count": 25,
      "outputs": [
        {
          "output_type": "stream",
          "name": "stdout",
          "text": [
            "These are internal variables [array([[1.8219931]], dtype=float32), array([29.128626], dtype=float32)]\n"
          ]
        }
      ]
    }
  ]
}